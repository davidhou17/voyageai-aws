{
 "cells": [
  {
   "attachments": {},
   "cell_type": "markdown",
   "metadata": {},
   "source": [
    "# Deploy voyage-finance-2 model package from AWS Marketplace \n",
    "\n",
    "Embedding models are neural networks that convert documents into numerical vectors. They are a crucial building block for retrieval systems, semantic search, and retrieval-augmented generation (RAG). voyage-finance-2 is optimized for finance domain retrieval and RAG. It demonstrates superior finance retrieval quality and outperformed competing models on financial retrieval datasets, with an average of 7% gain over OpenAI and 12% over Cohere. voyage-finance-2 supports a 32K context length.\n",
    "\n",
    "## Pre-requisites:\n",
    "- Confirm that the IAM role possesses **AmazonSageMakerFullAccess**.\n",
    "- For successful deployment of this ML model, ensure the following:\n",
    "    1. Your IAM role is endowed with three specific permissions, and you hold the authority to make AWS Marketplace subscriptions within the utilized AWS account:\n",
    "        1. **aws-marketplace:ViewSubscriptions**\n",
    "        1. **aws-marketplace:Unsubscribe**\n",
    "        1. **aws-marketplace:Subscribe**  \n",
    "    2. Alternatively, your AWS account maintains a subscription to one of the aforementioned models.\n",
    "    "
   ]
  },
  {
   "attachments": {},
   "cell_type": "markdown",
   "metadata": {},
   "source": [
    "## 1. Subscribe to the model package"
   ]
  },
  {
   "attachments": {},
   "cell_type": "markdown",
   "metadata": {},
   "source": [
    "To subscribe to the voyage-finance-2 model package:\n",
    "1. Navigate to the model package listing page.\n",
    "2. Click on the **Continue to subscribe** button found on the AWS Marketplace listing.\n",
    "3. On the **Subscribe to this software** page, carefully review the details. If you and your organization agree with the End-User License Agreement (EULA), pricing, and support terms, click on **\"Accept Offer\"**.\n",
    "4. After selecting **Continue to configuration** and choosing a **region**, you will be presented with a **Product Arn**. This is the model package ARN required for creating a deployable model using Boto3. Copy the ARN that corresponds to your selected region and use it in the subsequent cell.\n"
   ]
  },
  {
   "cell_type": "code",
   "execution_count": null,
   "metadata": {},
   "outputs": [],
   "source": [
    "!pip install boto3 --upgrade"
   ]
  },
  {
   "cell_type": "code",
   "execution_count": null,
   "metadata": {},
   "outputs": [],
   "source": [
    "import boto3\n",
    "\n",
    "# Specify the voyage-finance-2 package identifier\n",
    "voyage_finance_2_identifier = \"voyage-finance-2-1adbefe1db413d249a1e44270d748140\"\n",
    "\n",
    "# Arn mapping for model packages by Region\n",
    "model_package_arn_mapping = {\n",
    "    \"us-east-1\": f\"arn:aws:sagemaker:us-east-1:865070037744:model-package/{voyage_finance_2_identifier}\",\n",
    "    \"us-east-2\": f\"arn:aws:sagemaker:us-east-2:057799348421:model-package/{voyage_finance_2_identifier}\",\n",
    "    \"us-west-1\": f\"arn:aws:sagemaker:us-west-1:382657785993:model-package/{voyage_finance_2_identifier}\",\n",
    "    \"us-west-2\": f\"arn:aws:sagemaker:us-west-2:594846645681:model-package/{voyage_finance_2_identifier}\",\n",
    "    \"ca-central-1\": f\"arn:aws:sagemaker:ca-central-1:470592106596:model-package/{voyage_finance_2_identifier}\",\n",
    "    \"eu-central-1\": f\"arn:aws:sagemaker:eu-central-1:446921602837:model-package/{voyage_finance_2_identifier}\",\n",
    "    \"eu-west-1\": f\"arn:aws:sagemaker:eu-west-1:985815980388:model-package/{voyage_finance_2_identifier}\",\n",
    "    \"eu-west-2\": f\"arn:aws:sagemaker:eu-west-2:856760150666:model-package/{voyage_finance_2_identifier}\",\n",
    "    \"eu-west-3\": f\"arn:aws:sagemaker:eu-west-3:843114510376:model-package/{voyage_finance_2_identifier}\",\n",
    "    \"eu-north-1\": f\"arn:aws:sagemaker:eu-north-1:136758871317:model-package/{voyage_finance_2_identifier}\",\n",
    "    \"ap-southeast-1\": f\"arn:aws:sagemaker:ap-southeast-1:192199979996:model-package/{voyage_finance_2_identifier}\",\n",
    "    \"ap-southeast-2\": f\"arn:aws:sagemaker:ap-southeast-2:666831318237:model-package/{voyage_finance_2_identifier}\",\n",
    "    \"ap-northeast-2\": f\"arn:aws:sagemaker:ap-northeast-2:745090734665:model-package/{voyage_finance_2_identifier}\",\n",
    "    \"ap-northeast-1\": f\"arn:aws:sagemaker:ap-northeast-1:977537786026:model-package/{voyage_finance_2_identifier}\",\n",
    "    \"ap-south-1\": f\"arn:aws:sagemaker:ap-south-1:077584701553:model-package/{voyage_finance_2_identifier}\",\n",
    "    \"sa-east-1\": f\"arn:aws:sagemaker:sa-east-1:270155090741:model-package/{voyage_finance_2_identifier}\",\n",
    "}\n",
    "\n",
    "# Determine the current AWS region of the boto3 session\n",
    "current_region = boto3.Session().region_name\n",
    "\n",
    "# Validate if the current region is supported\n",
    "if current_region not in model_package_arn_mapping:\n",
    "    raise Exception(f\"The region {current_region} of the current boto3 session is not supported.\")\n",
    "\n",
    "# Retrieve the model package Arn for the current region\n",
    "model_package_arn = model_package_arn_mapping[current_region]"
   ]
  },
  {
   "attachments": {},
   "cell_type": "markdown",
   "metadata": {},
   "source": [
    "## 2. Create an endpoint for real-time inference"
   ]
  },
  {
   "cell_type": "code",
   "execution_count": null,
   "metadata": {},
   "outputs": [],
   "source": [
    "import json\n",
    "import sagemaker as sage\n",
    "from sagemaker import get_execution_role, ModelPackage\n",
    "import time\n",
    "\n",
    "session = sage.Session()\n",
    "role = get_execution_role()\n",
    "sm_runtime = boto3.client(\"sagemaker-runtime\")\n",
    "\n",
    "model = ModelPackage(\n",
    "    role=role,\n",
    "    model_package_arn=model_package_arn,\n",
    "    sagemaker_session=session,\n",
    ")\n",
    "# The following step deploys the model endpoint to Sagemaker and may take up to 10 mins.\n",
    "model.deploy(\n",
    "    initial_instance_count=1,\n",
    "    instance_type=\"ml.g5.xlarge\",\n",
    "    endpoint_name=\"voyage-finance-2\",\n",
    ")"
   ]
  },
  {
   "attachments": {},
   "cell_type": "markdown",
   "metadata": {},
   "source": [
    "The established endpoint can be utilized for real-time inference as demonstrated in the following example.\n",
    "\n",
    "For detailed information on the specific usage methods (input, input_type, truncation), input prerequisites (batch size limit, maximum context length requiment) and its expected throughput, kindly consult this [page](https://aws.amazon.com/marketplace/pp/prodview-erofjpgna7gtq?sr=0-3&ref_=beagle&applicationId=AWSMPContessa)."
   ]
  },
  {
   "cell_type": "code",
   "execution_count": null,
   "metadata": {},
   "outputs": [],
   "source": [
    "input_json = '''{\n",
    "    \"input\": [\"Sample text 1\", \"Sample text 2\"],\n",
    "    \"input_type\": \"query\", \n",
    "    \"truncation\": \"true\"\n",
    "  }'''\n",
    "\n",
    "print(input_json)\n",
    "\n",
    "response = sm_runtime.invoke_endpoint(\n",
    "    EndpointName=model.endpoint_name,\n",
    "    ContentType=\"application/json\",\n",
    "    Accept=\"application/json\",\n",
    "    Body=input_json,\n",
    ")\n",
    "\n",
    "print(json.load(response[\"Body\"]))"
   ]
  },
  {
   "cell_type": "markdown",
   "metadata": {},
   "source": [
    "Here is a demonstration of how to index a large dataset."
   ]
  },
  {
   "cell_type": "code",
   "execution_count": null,
   "metadata": {},
   "outputs": [],
   "source": [
    "# Example dataset: an array of documents\n",
    "dataset = [\n",
    "    \"The effectiveness of machine learning in predictive analytics.\",\n",
    "    \"A comparative study of deep learning models for natural language processing.\",\n",
    "    \"Innovative approaches to data encryption in cybersecurity.\",\n",
    "    \"Exploring the impact of blockchain technology on supply chain management.\",\n",
    "    \"The role of artificial intelligence in enhancing user experience design.\"\n",
    "]\n",
    "encoded_data = []\n",
    "\n",
    "for text_data in dataset:\n",
    "    input_json = json.dumps({\n",
    "        \"input\": [text_data],\n",
    "        \"input_type\": \"document\",\n",
    "        \"truncation\": \"true\"\n",
    "    })\n",
    "    response = sm_runtime.invoke_endpoint(\n",
    "        EndpointName=model.endpoint_name,\n",
    "        ContentType=\"application/json\",\n",
    "        Accept=\"application/json\",\n",
    "        Body=input_json,\n",
    "    )\n",
    "    encoded_data.append(json.load(response[\"Body\"]))\n",
    "\n",
    "print(\"Encoding completed.\")"
   ]
  },
  {
   "attachments": {},
   "cell_type": "markdown",
   "metadata": {},
   "source": [
    "## 3. Clean-up"
   ]
  },
  {
   "attachments": {},
   "cell_type": "markdown",
   "metadata": {},
   "source": [
    "Now that you have successfully performed a real-time inference, you do not need the endpoint any more. You can terminate the endpoint to avoid being charged."
   ]
  },
  {
   "cell_type": "code",
   "execution_count": null,
   "metadata": {},
   "outputs": [],
   "source": [
    "model.sagemaker_session.delete_endpoint(model.endpoint_name)\n",
    "model.sagemaker_session.delete_endpoint_config(model.endpoint_name)\n",
    "model.delete_model()"
   ]
  }
 ],
 "metadata": {
  "instance_type": "ml.t3.medium",
  "kernelspec": {
   "display_name": "Python 3 (ipykernel)",
   "language": "python",
   "name": "python3"
  },
  "language_info": {
   "codemirror_mode": {
    "name": "ipython",
    "version": 3
   },
   "file_extension": ".py",
   "mimetype": "text/x-python",
   "name": "python",
   "nbconvert_exporter": "python",
   "pygments_lexer": "ipython3",
   "version": "3.10.13"
  },
  "vscode": {
   "interpreter": {
    "hash": "b0fa6594d8f4cbf19f97940f81e996739fb7646882a419484c72d19e05852a7e"
   }
  }
 },
 "nbformat": 4,
 "nbformat_minor": 4
}

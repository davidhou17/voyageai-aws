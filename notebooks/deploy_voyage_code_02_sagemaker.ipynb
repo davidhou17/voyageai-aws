{
 "cells": [
  {
   "attachments": {},
   "cell_type": "markdown",
   "metadata": {},
   "source": [
    "# Deploy voyage-code-02 model package from AWS Marketplace \n",
    "\n",
    "Embedding models, a crucial building block for retrieval systems, semantic search, and retrieval-augmented generation (RAG), are neural networks that convert documents into numerical vectors. Voyage-code-02 is a cutting-edge embedding model that is trained particularly for semantic retrieval of code and code-related texts from both natural language and code queries. The model excels in code-related AI applications, including semantic code search/retrieval, code completion, and various functions of general code assistants. On 11 code retrieval tasks, voyage-code-02 has a significant 16.94% improvement over any alternatives, including OpenAI and Cohere. Voyage-code-02 also has consistent enhancements, averaging 4.93%, across general-purpose corpora.\n",
    "\n",
    "## Pre-requisites:\n",
    "- Confirm that the IAM role possesses **AmazonSageMakerFullAccess**.\n",
    "- For successful deployment of this ML model, ensure the following:\n",
    "    1. Your IAM role is endowed with three specific permissions, and you hold the authority to make AWS Marketplace subscriptions within the utilized AWS account:\n",
    "        1. **aws-marketplace:ViewSubscriptions**\n",
    "        1. **aws-marketplace:Unsubscribe**\n",
    "        1. **aws-marketplace:Subscribe**  \n",
    "    2. Alternatively, your AWS account maintains a subscription to one of the aforementioned models.\n",
    "    "
   ]
  },
  {
   "attachments": {},
   "cell_type": "markdown",
   "metadata": {},
   "source": [
    "## 1. Subscribe to the model package"
   ]
  },
  {
   "attachments": {},
   "cell_type": "markdown",
   "metadata": {},
   "source": [
    "To subscribe to the voyage-code-02 model package:\n",
    "1. Navigate to the model package listing page.\n",
    "2. Click on the **Continue to subscribe** button found on the AWS Marketplace listing.\n",
    "3. On the **Subscribe to this software** page, carefully review the details. If you and your organization agree with the End-User License Agreement (EULA), pricing, and support terms, click on **\"Accept Offer\"**.\n",
    "4. After selecting **Continue to configuration** and choosing a **region**, you will be presented with a **Product Arn**. This is the model package ARN required for creating a deployable model using Boto3. Copy the ARN that corresponds to your selected region and use it in the subsequent cell.\n"
   ]
  },
  {
   "cell_type": "code",
   "execution_count": null,
   "metadata": {},
   "outputs": [],
   "source": [
    "!pip install boto3 --upgrade"
   ]
  },
  {
   "cell_type": "code",
   "execution_count": null,
   "metadata": {},
   "outputs": [],
   "source": [
    "import boto3\n",
    "\n",
    "# Specify the voyage-code-02 package identifier\n",
    "voyage_code_02_identifier = \"TBD\"\n",
    "\n",
    "# ARN mapping for model packages by Region\n",
    "model_package_arn_mapping = {\n",
    "    \"us-east-2\": f\"arn:aws:sagemaker:us-east-2:TBD:model-package/{voyage_code_02_identifier}\",\n",
    "}\n",
    "\n",
    "# Determine the current AWS region of the boto3 session\n",
    "current_region = boto3.Session().region_name\n",
    "\n",
    "# Validate if the current region is supported\n",
    "if current_region not in model_package_arn_mapping:\n",
    "    raise Exception(f\"The region {current_region} of the current boto3 session is not supported.\")\n",
    "\n",
    "# Retrieve the model package ARN for the current region\n",
    "model_package_arn = model_package_arn_mapping[current_region]"
   ]
  },
  {
   "attachments": {},
   "cell_type": "markdown",
   "metadata": {},
   "source": [
    "## 2. Create an endpoint for real-time inference"
   ]
  },
  {
   "cell_type": "code",
   "execution_count": null,
   "metadata": {},
   "outputs": [],
   "source": [
    "import json\n",
    "import sagemaker as sage\n",
    "from sagemaker import get_execution_role, ModelPackage\n",
    "import time\n",
    "\n",
    "session = sage.Session()\n",
    "role = get_execution_role()\n",
    "sm_runtime = boto3.client(\"sagemaker-runtime\")\n",
    "\n",
    "model = ModelPackage(\n",
    "    role=role,\n",
    "    model_package_arn=model_package_arn,\n",
    "    sagemaker_session=session,\n",
    ")\n",
    "model.deploy(\n",
    "    initial_instance_count=1,\n",
    "    instance_type=\"ml.g5.2xlarge\",\n",
    "    endpoint_name=\"voyage-code-02\",\n",
    ")"
   ]
  },
  {
   "attachments": {},
   "cell_type": "markdown",
   "metadata": {},
   "source": [
    "The established endpoint can be utilized for real-time inference as demonstrated in the following example."
   ]
  },
  {
   "cell_type": "code",
   "execution_count": null,
   "metadata": {},
   "outputs": [],
   "source": [
    "input_json = '''{\n",
    "    \"input\": [\"Sample text 1\", \"Sample text 2\"],\n",
    "    \"input_type\": \"query\", \n",
    "    \"truncation\": \"true\"\n",
    "  }'''\n",
    "\n",
    "print(input_json)\n",
    "\n",
    "response = sm_runtime.invoke_endpoint(\n",
    "    EndpointName=model.endpoint_name,\n",
    "    ContentType=\"application/json\",\n",
    "    Accept=\"application/json\",\n",
    "    Body=input_json,\n",
    ")\n",
    "\n",
    "print(json.load(response[\"Body\"]))"
   ]
  },
  {
   "attachments": {},
   "cell_type": "markdown",
   "metadata": {},
   "source": [
    "## 3. Clean-up"
   ]
  },
  {
   "attachments": {},
   "cell_type": "markdown",
   "metadata": {},
   "source": [
    "Now that you have successfully performed a real-time inference, you do not need the endpoint any more. You can terminate the endpoint to avoid being charged."
   ]
  },
  {
   "cell_type": "code",
   "execution_count": null,
   "metadata": {},
   "outputs": [],
   "source": [
    "model.sagemaker_session.delete_endpoint(model.endpoint_name)\n",
    "model.sagemaker_session.delete_endpoint_config(model.endpoint_name)\n",
    "model.delete_model()"
   ]
  }
 ],
 "metadata": {
  "instance_type": "ml.t3.medium",
  "kernelspec": {
   "display_name": "Python 3 (ipykernel)",
   "language": "python",
   "name": "python3"
  },
  "language_info": {
   "codemirror_mode": {
    "name": "ipython",
    "version": 3
   },
   "file_extension": ".py",
   "mimetype": "text/x-python",
   "name": "python",
   "nbconvert_exporter": "python",
   "pygments_lexer": "ipython3",
   "version": "3.10.13"
  },
  "vscode": {
   "interpreter": {
    "hash": "b0fa6594d8f4cbf19f97940f81e996739fb7646882a419484c72d19e05852a7e"
   }
  }
 },
 "nbformat": 4,
 "nbformat_minor": 4
}
